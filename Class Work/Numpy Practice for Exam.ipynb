{
 "cells": [
  {
   "cell_type": "code",
   "execution_count": 1,
   "metadata": {},
   "outputs": [],
   "source": [
    "import numpy as np"
   ]
  },
  {
   "cell_type": "code",
   "execution_count": 3,
   "metadata": {},
   "outputs": [
    {
     "data": {
      "text/plain": [
       "array([ 0,  1,  2,  3,  4,  5,  6,  7,  8,  9, 10, 11, 12, 13, 14, 15, 16,\n",
       "       17, 18, 19, 20, 21, 22, 23, 24, 25, 26, 27, 28, 29, 30, 31, 32, 33,\n",
       "       34, 35, 36, 37, 38, 39, 40, 41, 42, 43, 44, 45, 46, 47, 48, 49, 50,\n",
       "       51, 52, 53, 54, 55, 56, 57, 58, 59, 60, 61, 62, 63, 64, 65, 66, 67,\n",
       "       68, 69, 70, 71, 72, 73, 74, 75, 76, 77, 78, 79, 80, 81, 82, 83, 84,\n",
       "       85, 86, 87, 88, 89, 90, 91, 92, 93, 94, 95, 96, 97, 98, 99])"
      ]
     },
     "execution_count": 3,
     "metadata": {},
     "output_type": "execute_result"
    }
   ],
   "source": [
    "## range in numpy\n",
    "np.arange(100)"
   ]
  },
  {
   "cell_type": "code",
   "execution_count": 6,
   "metadata": {},
   "outputs": [
    {
     "data": {
      "text/plain": [
       "array([[0.54551307, 0.30678906, 0.50714408, 0.16417725],\n",
       "       [0.02469285, 0.62252031, 0.37709683, 0.35252916],\n",
       "       [0.717175  , 0.82277816, 0.62900482, 0.24766922]])"
      ]
     },
     "execution_count": 6,
     "metadata": {},
     "output_type": "execute_result"
    }
   ],
   "source": [
    "##multidimentional Array in numpy\n",
    "np.random.rand(3,4)"
   ]
  },
  {
   "cell_type": "code",
   "execution_count": 7,
   "metadata": {},
   "outputs": [],
   "source": [
    "## easiest way to create array\n",
    "list1 = [1, 2, 3, 4, 5, 6, 7]\n",
    "data = np.array(list1)"
   ]
  },
  {
   "cell_type": "code",
   "execution_count": 8,
   "metadata": {},
   "outputs": [
    {
     "data": {
      "text/plain": [
       "array([1, 2, 3, 4, 5, 6, 7])"
      ]
     },
     "execution_count": 8,
     "metadata": {},
     "output_type": "execute_result"
    }
   ],
   "source": [
    "data"
   ]
  },
  {
   "cell_type": "code",
   "execution_count": 10,
   "metadata": {},
   "outputs": [
    {
     "data": {
      "text/plain": [
       "(7,)"
      ]
     },
     "execution_count": 10,
     "metadata": {},
     "output_type": "execute_result"
    }
   ],
   "source": [
    "data.shape"
   ]
  },
  {
   "cell_type": "code",
   "execution_count": 11,
   "metadata": {},
   "outputs": [
    {
     "data": {
      "text/plain": [
       "dtype('int32')"
      ]
     },
     "execution_count": 11,
     "metadata": {},
     "output_type": "execute_result"
    }
   ],
   "source": [
    "data.dtype"
   ]
  },
  {
   "cell_type": "code",
   "execution_count": 23,
   "metadata": {},
   "outputs": [
    {
     "data": {
      "text/plain": [
       "1"
      ]
     },
     "execution_count": 23,
     "metadata": {},
     "output_type": "execute_result"
    }
   ],
   "source": [
    "data.ndim"
   ]
  },
  {
   "cell_type": "code",
   "execution_count": 18,
   "metadata": {},
   "outputs": [],
   "source": [
    "## Two dimension array\n",
    "list2 = [ [1, 2, 3, 4, 5], [11, 12, 13, 14, 15] ]\n",
    "data2 = np.array(list2)"
   ]
  },
  {
   "cell_type": "code",
   "execution_count": 19,
   "metadata": {},
   "outputs": [
    {
     "data": {
      "text/plain": [
       "array([[ 1,  2,  3,  4,  5],\n",
       "       [11, 12, 13, 14, 15]])"
      ]
     },
     "execution_count": 19,
     "metadata": {},
     "output_type": "execute_result"
    }
   ],
   "source": [
    "data2"
   ]
  },
  {
   "cell_type": "code",
   "execution_count": 20,
   "metadata": {},
   "outputs": [
    {
     "data": {
      "text/plain": [
       "dtype('int32')"
      ]
     },
     "execution_count": 20,
     "metadata": {},
     "output_type": "execute_result"
    }
   ],
   "source": [
    "data2.dtype"
   ]
  },
  {
   "cell_type": "code",
   "execution_count": 21,
   "metadata": {},
   "outputs": [
    {
     "data": {
      "text/plain": [
       "(2, 5)"
      ]
     },
     "execution_count": 21,
     "metadata": {},
     "output_type": "execute_result"
    }
   ],
   "source": [
    "data2.shape"
   ]
  },
  {
   "cell_type": "code",
   "execution_count": 24,
   "metadata": {},
   "outputs": [
    {
     "data": {
      "text/plain": [
       "2"
      ]
     },
     "execution_count": 24,
     "metadata": {},
     "output_type": "execute_result"
    }
   ],
   "source": [
    "data2.ndim"
   ]
  },
  {
   "cell_type": "code",
   "execution_count": 26,
   "metadata": {},
   "outputs": [],
   "source": [
    "## two dimension array with not equal in length\n",
    "list3 = [ [1, 2, 3], [11, 12, 13, 14] ]\n",
    "data3 = np.array(list3)"
   ]
  },
  {
   "cell_type": "code",
   "execution_count": 27,
   "metadata": {},
   "outputs": [
    {
     "data": {
      "text/plain": [
       "array([list([1, 2, 3]), list([11, 12, 13, 14])], dtype=object)"
      ]
     },
     "execution_count": 27,
     "metadata": {},
     "output_type": "execute_result"
    }
   ],
   "source": [
    "data3"
   ]
  },
  {
   "cell_type": "code",
   "execution_count": 28,
   "metadata": {},
   "outputs": [
    {
     "data": {
      "text/plain": [
       "dtype('O')"
      ]
     },
     "execution_count": 28,
     "metadata": {},
     "output_type": "execute_result"
    }
   ],
   "source": [
    "data3.dtype"
   ]
  },
  {
   "cell_type": "code",
   "execution_count": 29,
   "metadata": {},
   "outputs": [
    {
     "data": {
      "text/plain": [
       "1"
      ]
     },
     "execution_count": 29,
     "metadata": {},
     "output_type": "execute_result"
    }
   ],
   "source": [
    "data3.ndim"
   ]
  },
  {
   "cell_type": "code",
   "execution_count": 30,
   "metadata": {},
   "outputs": [],
   "source": [
    "## still two dimensional array\n",
    "list4 = [ [1, 2, 3], [11, 12, 13], [21, 22, 23] ]\n",
    "data4 = np.array(list4)"
   ]
  },
  {
   "cell_type": "code",
   "execution_count": 31,
   "metadata": {},
   "outputs": [
    {
     "data": {
      "text/plain": [
       "array([[ 1,  2,  3],\n",
       "       [11, 12, 13],\n",
       "       [21, 22, 23]])"
      ]
     },
     "execution_count": 31,
     "metadata": {},
     "output_type": "execute_result"
    }
   ],
   "source": [
    "data4"
   ]
  },
  {
   "cell_type": "code",
   "execution_count": 32,
   "metadata": {},
   "outputs": [
    {
     "data": {
      "text/plain": [
       "2"
      ]
     },
     "execution_count": 32,
     "metadata": {},
     "output_type": "execute_result"
    }
   ],
   "source": [
    "data4.ndim"
   ]
  },
  {
   "cell_type": "code",
   "execution_count": 33,
   "metadata": {},
   "outputs": [
    {
     "data": {
      "text/plain": [
       "array([[[ 1,  2,  3],\n",
       "        [ 6,  7,  8]],\n",
       "\n",
       "       [[12, 13, 14],\n",
       "        [16, 17, 18]]])"
      ]
     },
     "execution_count": 33,
     "metadata": {},
     "output_type": "execute_result"
    }
   ],
   "source": [
    "## three dimensional array\n",
    "list5 = [ [ [1, 2, 3], [6, 7, 8] ], [ [12, 13, 14 ], [16, 17, 18 ] ] ]\n",
    "data5 = np.array(list5)\n",
    "data5"
   ]
  },
  {
   "cell_type": "code",
   "execution_count": 34,
   "metadata": {},
   "outputs": [
    {
     "data": {
      "text/plain": [
       "3"
      ]
     },
     "execution_count": 34,
     "metadata": {},
     "output_type": "execute_result"
    }
   ],
   "source": [
    "data5.ndim"
   ]
  },
  {
   "cell_type": "code",
   "execution_count": 35,
   "metadata": {},
   "outputs": [
    {
     "data": {
      "text/plain": [
       "array([[[[1.0000e+00, 2.0000e+00, 3.0000e+00],\n",
       "         [1.1000e+00, 1.2000e+00, 1.3000e+00]],\n",
       "\n",
       "        [[1.0000e-03, 2.0000e-03, 3.0000e-03],\n",
       "         [6.0000e-03, 7.0000e-03, 8.0000e-03]]],\n",
       "\n",
       "\n",
       "       [[[1.2000e+01, 1.3000e+01, 1.4000e+01],\n",
       "         [1.2000e+01, 1.3000e+01, 1.4000e+01]],\n",
       "\n",
       "        [[1.6999e+01, 1.7999e+01, 1.8999e+01],\n",
       "         [1.6999e+01, 1.7999e+01, 1.8999e+01]]]])"
      ]
     },
     "execution_count": 35,
     "metadata": {},
     "output_type": "execute_result"
    }
   ],
   "source": [
    "## four dimensional array\n",
    "list6 = [ [ [ [1.0, 2.0, 3.0 ], [1.1, 1.2, 1.3 ] ], [ [0.001, 0.002, 0.003 ], [0.006, 0.007, 0.008 ] ] ], [ [ [12.000, 13.000, 14.000], [12.000, 13.000, 14.000 ] ], [ [16.999, 17.999, 18.999], [16.999, 17.999, 18.999] ] ] ]\n",
    "data6 = np.array(list6)\n",
    "data6"
   ]
  },
  {
   "cell_type": "code",
   "execution_count": 36,
   "metadata": {},
   "outputs": [
    {
     "data": {
      "text/plain": [
       "4"
      ]
     },
     "execution_count": 36,
     "metadata": {},
     "output_type": "execute_result"
    }
   ],
   "source": [
    "data6.ndim"
   ]
  },
  {
   "cell_type": "code",
   "execution_count": 37,
   "metadata": {},
   "outputs": [
    {
     "data": {
      "text/plain": [
       "dtype('float64')"
      ]
     },
     "execution_count": 37,
     "metadata": {},
     "output_type": "execute_result"
    }
   ],
   "source": [
    "data6.dtype"
   ]
  },
  {
   "cell_type": "code",
   "execution_count": 41,
   "metadata": {},
   "outputs": [],
   "source": [
    "listOne = [1, 2, 3, 4]\n",
    "listTwo = [ [1, 2, 3], [11, 12, 13] ]\n",
    "listThree = [ [ [ 1, 2, 3], [ 11, 12, 13 ] ] ]\n",
    "listFour = [ [ [ [ 1, 2, 3 ], [ 11, 12, 13 ] ] ] ]\n",
    "dataOne = np.array(listOne)\n",
    "dataTwo = np.array(listTwo)\n",
    "dataThree = np.array(listThree)\n",
    "dataFour = np.array(listFour)"
   ]
  },
  {
   "cell_type": "code",
   "execution_count": 42,
   "metadata": {},
   "outputs": [
    {
     "name": "stdout",
     "output_type": "stream",
     "text": [
      "One Dimensional Array \n",
      "[1 2 3 4]\n",
      "1\n",
      "Two Dimensional Array \n",
      "[[ 1  2  3]\n",
      " [11 12 13]]\n",
      "2\n",
      "Three Dimensional Array \n",
      "[[[ 1  2  3]\n",
      "  [11 12 13]]]\n",
      "3\n",
      "Four Dimensional Array \n",
      "[[[[ 1  2  3]\n",
      "   [11 12 13]]]]\n",
      "4\n"
     ]
    }
   ],
   "source": [
    "print(\"One Dimensional Array \")\n",
    "print(dataOne)\n",
    "print(dataOne.ndim)\n",
    "print(\"Two Dimensional Array \")\n",
    "print(dataTwo)\n",
    "print(dataTwo.ndim)\n",
    "print(\"Three Dimensional Array \")\n",
    "print(dataThree)\n",
    "print(dataThree.ndim)\n",
    "print(\"Four Dimensional Array \")\n",
    "print(dataFour)\n",
    "print(dataFour.ndim)"
   ]
  },
  {
   "cell_type": "markdown",
   "metadata": {},
   "source": [
    "# Creating Array and Genrating Values"
   ]
  },
  {
   "cell_type": "code",
   "execution_count": 4,
   "metadata": {},
   "outputs": [
    {
     "data": {
      "text/plain": [
       "array([0, 1, 2, 3, 4, 5, 6, 7, 8, 9])"
      ]
     },
     "execution_count": 4,
     "metadata": {},
     "output_type": "execute_result"
    }
   ],
   "source": [
    "#it works on only scaler arguments\n",
    "np.arange(10)"
   ]
  },
  {
   "cell_type": "code",
   "execution_count": 8,
   "metadata": {},
   "outputs": [
    {
     "name": "stdout",
     "output_type": "stream",
     "text": [
      "[0. 0. 0. 0. 0. 0. 0. 0. 0. 0.]\n",
      "------------------\n",
      "[[0. 0. 0.]\n",
      " [0. 0. 0.]]\n",
      "------------------\n",
      "[[[0. 0. 0. 0.]\n",
      "  [0. 0. 0. 0.]\n",
      "  [0. 0. 0. 0.]]\n",
      "\n",
      " [[0. 0. 0. 0.]\n",
      "  [0. 0. 0. 0.]\n",
      "  [0. 0. 0. 0.]]]\n"
     ]
    }
   ],
   "source": [
    "#it takes scaler as well as vector\n",
    "print(np.zeros(10))\n",
    "print(\"------------------\")\n",
    "print(np.zeros((2, 3)))\n",
    "print(\"------------------\")\n",
    "print(np.zeros((2, 3, 4)))"
   ]
  },
  {
   "cell_type": "code",
   "execution_count": 9,
   "metadata": {},
   "outputs": [
    {
     "name": "stdout",
     "output_type": "stream",
     "text": [
      "[0. 0. 0. 0. 0. 0. 0. 0. 0. 0.]\n",
      "------------------\n",
      "[[0. 0. 0.]\n",
      " [0. 0. 0.]]\n",
      "------------------\n",
      "[[[0. 0. 0. 0.]\n",
      "  [0. 0. 0. 0.]\n",
      "  [0. 0. 0. 0.]]\n",
      "\n",
      " [[0. 0. 0. 0.]\n",
      "  [0. 0. 0. 0.]\n",
      "  [0. 0. 0. 0.]]]\n"
     ]
    }
   ],
   "source": [
    "#it takes scaler as well as vector\n",
    "print(np.empty(10))\n",
    "print(\"------------------\")\n",
    "print(np.empty((2, 3)))\n",
    "print(\"------------------\")\n",
    "print(np.empty((2, 3, 4)))"
   ]
  },
  {
   "cell_type": "code",
   "execution_count": 3,
   "metadata": {},
   "outputs": [
    {
     "name": "stdout",
     "output_type": "stream",
     "text": [
      "[1. 1. 1. 1. 1. 1. 1. 1. 1. 1.]\n",
      "------------------\n",
      "[[1. 1. 1.]\n",
      " [1. 1. 1.]]\n",
      "------------------\n",
      "[[[1. 1. 1. 1.]\n",
      "  [1. 1. 1. 1.]]\n",
      "\n",
      " [[1. 1. 1. 1.]\n",
      "  [1. 1. 1. 1.]]\n",
      "\n",
      " [[1. 1. 1. 1.]\n",
      "  [1. 1. 1. 1.]]]\n"
     ]
    }
   ],
   "source": [
    "#it takes scaler as well as vector\n",
    "print(np.ones(10))\n",
    "print(\"------------------\")\n",
    "print(np.ones((2, 3)))\n",
    "print(\"------------------\")\n",
    "print(np.ones((3, 2, 4)))"
   ]
  },
  {
   "cell_type": "code",
   "execution_count": 4,
   "metadata": {},
   "outputs": [
    {
     "data": {
      "text/plain": [
       "3"
      ]
     },
     "execution_count": 4,
     "metadata": {},
     "output_type": "execute_result"
    }
   ],
   "source": [
    "np.ones((3, 2, 4)).ndim"
   ]
  },
  {
   "cell_type": "code",
   "execution_count": 12,
   "metadata": {},
   "outputs": [
    {
     "data": {
      "text/plain": [
       "array([[6, 6, 6],\n",
       "       [6, 6, 6],\n",
       "       [6, 6, 6],\n",
       "       [6, 6, 6]])"
      ]
     },
     "execution_count": 12,
     "metadata": {},
     "output_type": "execute_result"
    }
   ],
   "source": [
    "c = np.full((4,3), fill_value='6', dtype='int32')\n",
    "c"
   ]
  },
  {
   "cell_type": "code",
   "execution_count": 8,
   "metadata": {},
   "outputs": [
    {
     "data": {
      "text/plain": [
       "array([[10, 10, 10],\n",
       "       [10, 10, 10],\n",
       "       [10, 10, 10],\n",
       "       [10, 10, 10]])"
      ]
     },
     "execution_count": 8,
     "metadata": {},
     "output_type": "execute_result"
    }
   ],
   "source": [
    "d = np.full_like(c, fill_value='10')\n",
    "d"
   ]
  },
  {
   "cell_type": "code",
   "execution_count": 17,
   "metadata": {},
   "outputs": [
    {
     "name": "stdout",
     "output_type": "stream",
     "text": [
      "[[1. 0. 0. 0.]\n",
      " [0. 1. 0. 0.]\n",
      " [0. 0. 1. 0.]\n",
      " [0. 0. 0. 1.]]\n",
      "---------------------\n",
      "[[1. 0. 0. 0. 0. 0. 0. 0.]\n",
      " [0. 1. 0. 0. 0. 0. 0. 0.]\n",
      " [0. 0. 1. 0. 0. 0. 0. 0.]\n",
      " [0. 0. 0. 1. 0. 0. 0. 0.]\n",
      " [0. 0. 0. 0. 1. 0. 0. 0.]\n",
      " [0. 0. 0. 0. 0. 1. 0. 0.]\n",
      " [0. 0. 0. 0. 0. 0. 1. 0.]\n",
      " [0. 0. 0. 0. 0. 0. 0. 1.]]\n"
     ]
    }
   ],
   "source": [
    "print(np.eye(4,4))\n",
    "print(\"---------------------\")\n",
    "print(np.identity(8))"
   ]
  },
  {
   "cell_type": "code",
   "execution_count": 15,
   "metadata": {},
   "outputs": [
    {
     "name": "stdout",
     "output_type": "stream",
     "text": [
      "[1. 1. 1. 1. 1. 1. 1. 1. 1. 1.]\n",
      "1\n",
      "-------------\n",
      "[[1.]\n",
      " [1.]]\n",
      "2\n",
      "-------------\n",
      "[[[1. 1.]]\n",
      "\n",
      " [[1. 1.]]\n",
      "\n",
      " [[1. 1.]]]\n",
      "3\n",
      "-------------\n",
      "[[[[1. 1. 1.]\n",
      "   [1. 1. 1.]]\n",
      "\n",
      "  [[1. 1. 1.]\n",
      "   [1. 1. 1.]]]\n",
      "\n",
      "\n",
      " [[[1. 1. 1.]\n",
      "   [1. 1. 1.]]\n",
      "\n",
      "  [[1. 1. 1.]\n",
      "   [1. 1. 1.]]]\n",
      "\n",
      "\n",
      " [[[1. 1. 1.]\n",
      "   [1. 1. 1.]]\n",
      "\n",
      "  [[1. 1. 1.]\n",
      "   [1. 1. 1.]]]\n",
      "\n",
      "\n",
      " [[[1. 1. 1.]\n",
      "   [1. 1. 1.]]\n",
      "\n",
      "  [[1. 1. 1.]\n",
      "   [1. 1. 1.]]]]\n",
      "4\n",
      "-------------\n",
      "[[[[[1. 1. 1. 1. 1.]\n",
      "    [1. 1. 1. 1. 1.]\n",
      "    [1. 1. 1. 1. 1.]]\n",
      "\n",
      "   [[1. 1. 1. 1. 1.]\n",
      "    [1. 1. 1. 1. 1.]\n",
      "    [1. 1. 1. 1. 1.]]]]\n",
      "\n",
      "\n",
      "\n",
      " [[[[1. 1. 1. 1. 1.]\n",
      "    [1. 1. 1. 1. 1.]\n",
      "    [1. 1. 1. 1. 1.]]\n",
      "\n",
      "   [[1. 1. 1. 1. 1.]\n",
      "    [1. 1. 1. 1. 1.]\n",
      "    [1. 1. 1. 1. 1.]]]]\n",
      "\n",
      "\n",
      "\n",
      " [[[[1. 1. 1. 1. 1.]\n",
      "    [1. 1. 1. 1. 1.]\n",
      "    [1. 1. 1. 1. 1.]]\n",
      "\n",
      "   [[1. 1. 1. 1. 1.]\n",
      "    [1. 1. 1. 1. 1.]\n",
      "    [1. 1. 1. 1. 1.]]]]\n",
      "\n",
      "\n",
      "\n",
      " [[[[1. 1. 1. 1. 1.]\n",
      "    [1. 1. 1. 1. 1.]\n",
      "    [1. 1. 1. 1. 1.]]\n",
      "\n",
      "   [[1. 1. 1. 1. 1.]\n",
      "    [1. 1. 1. 1. 1.]\n",
      "    [1. 1. 1. 1. 1.]]]]]\n",
      "5\n",
      "-------------\n"
     ]
    }
   ],
   "source": [
    "onD = np.ones(10)\n",
    "onD1 = np.ones((2, 1))\n",
    "onD2 = np.ones((3, 1,  2))\n",
    "onD3 = np.ones((4, 2,  2, 3))\n",
    "onD4 = np.ones((4, 1, 2, 3, 5))\n",
    "print(onD)\n",
    "print(onD.ndim) \n",
    "print(\"-------------\")\n",
    "print(onD1) \n",
    "print(onD1.ndim) \n",
    "print(\"-------------\")\n",
    "print(onD2) \n",
    "print(onD2.ndim) \n",
    "print(\"-------------\")\n",
    "print(onD3) \n",
    "print(onD3.ndim) \n",
    "print(\"-------------\")\n",
    "print(onD4) \n",
    "print(onD4.ndim) \n",
    "print(\"-------------\")"
   ]
  },
  {
   "cell_type": "code",
   "execution_count": 13,
   "metadata": {},
   "outputs": [
    {
     "name": "stdout",
     "output_type": "stream",
     "text": [
      "6\n"
     ]
    },
    {
     "data": {
      "text/plain": [
       "array([[[[[[1., 1.],\n",
       "           [1., 1.],\n",
       "           [1., 1.]],\n",
       "\n",
       "          [[1., 1.],\n",
       "           [1., 1.],\n",
       "           [1., 1.]],\n",
       "\n",
       "          [[1., 1.],\n",
       "           [1., 1.],\n",
       "           [1., 1.]],\n",
       "\n",
       "          [[1., 1.],\n",
       "           [1., 1.],\n",
       "           [1., 1.]]],\n",
       "\n",
       "\n",
       "         [[[1., 1.],\n",
       "           [1., 1.],\n",
       "           [1., 1.]],\n",
       "\n",
       "          [[1., 1.],\n",
       "           [1., 1.],\n",
       "           [1., 1.]],\n",
       "\n",
       "          [[1., 1.],\n",
       "           [1., 1.],\n",
       "           [1., 1.]],\n",
       "\n",
       "          [[1., 1.],\n",
       "           [1., 1.],\n",
       "           [1., 1.]]],\n",
       "\n",
       "\n",
       "         [[[1., 1.],\n",
       "           [1., 1.],\n",
       "           [1., 1.]],\n",
       "\n",
       "          [[1., 1.],\n",
       "           [1., 1.],\n",
       "           [1., 1.]],\n",
       "\n",
       "          [[1., 1.],\n",
       "           [1., 1.],\n",
       "           [1., 1.]],\n",
       "\n",
       "          [[1., 1.],\n",
       "           [1., 1.],\n",
       "           [1., 1.]]]],\n",
       "\n",
       "\n",
       "\n",
       "        [[[[1., 1.],\n",
       "           [1., 1.],\n",
       "           [1., 1.]],\n",
       "\n",
       "          [[1., 1.],\n",
       "           [1., 1.],\n",
       "           [1., 1.]],\n",
       "\n",
       "          [[1., 1.],\n",
       "           [1., 1.],\n",
       "           [1., 1.]],\n",
       "\n",
       "          [[1., 1.],\n",
       "           [1., 1.],\n",
       "           [1., 1.]]],\n",
       "\n",
       "\n",
       "         [[[1., 1.],\n",
       "           [1., 1.],\n",
       "           [1., 1.]],\n",
       "\n",
       "          [[1., 1.],\n",
       "           [1., 1.],\n",
       "           [1., 1.]],\n",
       "\n",
       "          [[1., 1.],\n",
       "           [1., 1.],\n",
       "           [1., 1.]],\n",
       "\n",
       "          [[1., 1.],\n",
       "           [1., 1.],\n",
       "           [1., 1.]]],\n",
       "\n",
       "\n",
       "         [[[1., 1.],\n",
       "           [1., 1.],\n",
       "           [1., 1.]],\n",
       "\n",
       "          [[1., 1.],\n",
       "           [1., 1.],\n",
       "           [1., 1.]],\n",
       "\n",
       "          [[1., 1.],\n",
       "           [1., 1.],\n",
       "           [1., 1.]],\n",
       "\n",
       "          [[1., 1.],\n",
       "           [1., 1.],\n",
       "           [1., 1.]]]]]])"
      ]
     },
     "execution_count": 13,
     "metadata": {},
     "output_type": "execute_result"
    }
   ],
   "source": [
    "dd = np.ones((1, 2, 3, 4, 3, 2))\n",
    "print(dd.ndim)\n",
    "dd"
   ]
  },
  {
   "cell_type": "markdown",
   "metadata": {},
   "source": [
    "# Arithmetic with NumPy Arrays"
   ]
  },
  {
   "cell_type": "code",
   "execution_count": 20,
   "metadata": {},
   "outputs": [],
   "source": [
    "row1 = [1, 2]\n",
    "row2 = [3, 4]\n",
    "z = np.array((row1, row2))"
   ]
  },
  {
   "cell_type": "code",
   "execution_count": 21,
   "metadata": {},
   "outputs": [
    {
     "data": {
      "text/plain": [
       "array([[1, 2],\n",
       "       [3, 4]])"
      ]
     },
     "execution_count": 21,
     "metadata": {},
     "output_type": "execute_result"
    }
   ],
   "source": [
    "z"
   ]
  },
  {
   "cell_type": "code",
   "execution_count": 22,
   "metadata": {},
   "outputs": [],
   "source": [
    "row11 = [11, 12]\n",
    "row22 = [8, 9]\n",
    "y = np.array((row11, row22))"
   ]
  },
  {
   "cell_type": "code",
   "execution_count": 23,
   "metadata": {},
   "outputs": [
    {
     "data": {
      "text/plain": [
       "array([[11, 12],\n",
       "       [ 8,  9]])"
      ]
     },
     "execution_count": 23,
     "metadata": {},
     "output_type": "execute_result"
    }
   ],
   "source": [
    "y"
   ]
  },
  {
   "cell_type": "code",
   "execution_count": 34,
   "metadata": {},
   "outputs": [
    {
     "name": "stdout",
     "output_type": "stream",
     "text": [
      "-------Addition--------\n",
      " [[1 2]\n",
      " [3 4]] \n",
      " + \n",
      " [[11 12]\n",
      " [ 8  9]]\n",
      " = \n",
      "[[12 14]\n",
      " [11 13]]\n",
      "-------Subtraction--------\n",
      " [[1 2]\n",
      " [3 4]] \n",
      " - \n",
      " [[11 12]\n",
      " [ 8  9]]\n",
      " = \n",
      "[[-10 -10]\n",
      " [ -5  -5]]\n",
      "-------Multiplication--------\n",
      " [[1 2]\n",
      " [3 4]] \n",
      " * \n",
      " [[11 12]\n",
      " [ 8  9]]\n",
      " = \n",
      "[[11 24]\n",
      " [24 36]]\n",
      "-------Division--------\n",
      " [[1 2]\n",
      " [3 4]] \n",
      " / \n",
      " [[11 12]\n",
      " [ 8  9]]\n",
      " = \n",
      "[[0.09090909 0.16666667]\n",
      " [0.375      0.44444444]]\n",
      "-------Greater--------\n",
      " [[1 2]\n",
      " [3 4]] \n",
      " > \n",
      " [[11 12]\n",
      " [ 8  9]]\n",
      " = \n",
      "[[False False]\n",
      " [False False]]\n",
      "-------Lesser--------\n",
      " [[1 2]\n",
      " [3 4]] \n",
      " < \n",
      " [[11 12]\n",
      " [ 8  9]]\n",
      " = \n",
      "[[ True  True]\n",
      " [ True  True]]\n"
     ]
    }
   ],
   "source": [
    "print(\"-------Addition--------\")\n",
    "print(f\" {z} \\n + \\n {y}\\n = \\n{z + y}\")\n",
    "print(\"-------Subtraction--------\")\n",
    "print(f\" {z} \\n - \\n {y}\\n = \\n{z - y}\")\n",
    "print(\"-------Multiplication--------\")\n",
    "print(f\" {z} \\n * \\n {y}\\n = \\n{z * y}\")\n",
    "print(\"-------Division--------\")\n",
    "print(f\" {z} \\n / \\n {y}\\n = \\n{z / y}\")\n",
    "print(\"-------Greater--------\")\n",
    "print(f\" {z} \\n > \\n {y}\\n = \\n{z > y}\")\n",
    "print(\"-------Lesser--------\")\n",
    "print(f\" {z} \\n < \\n {y}\\n = \\n{z < y}\")"
   ]
  },
  {
   "cell_type": "markdown",
   "metadata": {},
   "source": [
    "# Basic Indexing and Slicing"
   ]
  },
  {
   "cell_type": "code",
   "execution_count": 2,
   "metadata": {},
   "outputs": [
    {
     "data": {
      "text/plain": [
       "array([ 1,  2,  3,  4,  5,  6,  7,  8,  9, 10, 11, 12, 13, 14, 15])"
      ]
     },
     "execution_count": 2,
     "metadata": {},
     "output_type": "execute_result"
    }
   ],
   "source": [
    "arr = np.array([1, 2, 3, 4, 5, 6, 7, 8, 9, 10, 11, 12, 13, 14, 15])\n",
    "arr"
   ]
  },
  {
   "cell_type": "code",
   "execution_count": 4,
   "metadata": {},
   "outputs": [
    {
     "data": {
      "text/plain": [
       "array([  1,   2,   3,   4,   5,   6, 120, 120, 120,  10,  11,  12,  13,\n",
       "        14,  15])"
      ]
     },
     "execution_count": 4,
     "metadata": {},
     "output_type": "execute_result"
    }
   ],
   "source": [
    "arr[6:9] = 120\n",
    "arr"
   ]
  },
  {
   "cell_type": "code",
   "execution_count": 6,
   "metadata": {},
   "outputs": [
    {
     "data": {
      "text/plain": [
       "array([120, 120, 120])"
      ]
     },
     "execution_count": 6,
     "metadata": {},
     "output_type": "execute_result"
    }
   ],
   "source": [
    "arr_slice = arr[6:9]\n",
    "arr_slice"
   ]
  },
  {
   "cell_type": "code",
   "execution_count": 7,
   "metadata": {},
   "outputs": [
    {
     "data": {
      "text/plain": [
       "array([120,  90, 120])"
      ]
     },
     "execution_count": 7,
     "metadata": {},
     "output_type": "execute_result"
    }
   ],
   "source": [
    "arr_slice[1] = 90\n",
    "arr_slice"
   ]
  },
  {
   "cell_type": "code",
   "execution_count": 8,
   "metadata": {},
   "outputs": [
    {
     "data": {
      "text/plain": [
       "array([  1,   2,   3,   4,   5,   6, 120,  90, 120,  10,  11,  12,  13,\n",
       "        14,  15])"
      ]
     },
     "execution_count": 8,
     "metadata": {},
     "output_type": "execute_result"
    }
   ],
   "source": [
    "arr"
   ]
  },
  {
   "cell_type": "code",
   "execution_count": 9,
   "metadata": {},
   "outputs": [
    {
     "data": {
      "text/plain": [
       "array([12, 13, 14])"
      ]
     },
     "execution_count": 9,
     "metadata": {},
     "output_type": "execute_result"
    }
   ],
   "source": [
    "arr_slice_copy = arr[11:14].copy()\n",
    "arr_slice_copy"
   ]
  },
  {
   "cell_type": "code",
   "execution_count": 10,
   "metadata": {},
   "outputs": [
    {
     "data": {
      "text/plain": [
       "array([   12, 10000,    14])"
      ]
     },
     "execution_count": 10,
     "metadata": {},
     "output_type": "execute_result"
    }
   ],
   "source": [
    "arr_slice_copy[1] = 10000\n",
    "arr_slice_copy"
   ]
  },
  {
   "cell_type": "code",
   "execution_count": 11,
   "metadata": {},
   "outputs": [
    {
     "data": {
      "text/plain": [
       "array([  1,   2,   3,   4,   5,   6, 120,  90, 120,  10,  11,  12,  13,\n",
       "        14,  15])"
      ]
     },
     "execution_count": 11,
     "metadata": {},
     "output_type": "execute_result"
    }
   ],
   "source": [
    "arr"
   ]
  },
  {
   "cell_type": "code",
   "execution_count": 12,
   "metadata": {},
   "outputs": [
    {
     "data": {
      "text/plain": [
       "array([[1, 2, 3],\n",
       "       [4, 5, 6],\n",
       "       [7, 8, 9]])"
      ]
     },
     "execution_count": 12,
     "metadata": {},
     "output_type": "execute_result"
    }
   ],
   "source": [
    "arr2D = np.array([ [1, 2, 3], [4, 5, 6], [7, 8, 9] ])\n",
    "arr2D"
   ]
  },
  {
   "cell_type": "code",
   "execution_count": 14,
   "metadata": {},
   "outputs": [
    {
     "data": {
      "text/plain": [
       "6"
      ]
     },
     "execution_count": 14,
     "metadata": {},
     "output_type": "execute_result"
    }
   ],
   "source": [
    "arr2D[1][2]"
   ]
  },
  {
   "cell_type": "code",
   "execution_count": 15,
   "metadata": {},
   "outputs": [
    {
     "data": {
      "text/plain": [
       "array([1, 2, 3])"
      ]
     },
     "execution_count": 15,
     "metadata": {},
     "output_type": "execute_result"
    }
   ],
   "source": [
    "arr2D[0]"
   ]
  },
  {
   "cell_type": "code",
   "execution_count": 16,
   "metadata": {},
   "outputs": [
    {
     "data": {
      "text/plain": [
       "array([[1, 2, 3],\n",
       "       [4, 5, 6]])"
      ]
     },
     "execution_count": 16,
     "metadata": {},
     "output_type": "execute_result"
    }
   ],
   "source": [
    "arr2D[[0, 1]]"
   ]
  },
  {
   "cell_type": "code",
   "execution_count": 20,
   "metadata": {},
   "outputs": [
    {
     "data": {
      "text/plain": [
       "array([6, 9])"
      ]
     },
     "execution_count": 20,
     "metadata": {},
     "output_type": "execute_result"
    }
   ],
   "source": [
    "#to catch 6 and 9\n",
    "arr2D[[1, 2], [2]]"
   ]
  },
  {
   "cell_type": "code",
   "execution_count": 21,
   "metadata": {},
   "outputs": [
    {
     "data": {
      "text/plain": [
       "array([[[11, 12, 13],\n",
       "        [14, 15, 16]],\n",
       "\n",
       "       [[21, 22, 23],\n",
       "        [24, 25, 26]]])"
      ]
     },
     "execution_count": 21,
     "metadata": {},
     "output_type": "execute_result"
    }
   ],
   "source": [
    "# 3D Array\n",
    "arr3D = np.array( [ [ [11, 12, 13], [14, 15, 16] ], [ [21, 22, 23], [24, 25, 26] ] ] )\n",
    "arr3D"
   ]
  },
  {
   "cell_type": "code",
   "execution_count": 22,
   "metadata": {},
   "outputs": [
    {
     "data": {
      "text/plain": [
       "array([[11, 12, 13],\n",
       "       [14, 15, 16]])"
      ]
     },
     "execution_count": 22,
     "metadata": {},
     "output_type": "execute_result"
    }
   ],
   "source": [
    "#to select 15, 16, 22 and 23\n",
    "arr3D[0]"
   ]
  },
  {
   "cell_type": "code",
   "execution_count": 23,
   "metadata": {},
   "outputs": [
    {
     "data": {
      "text/plain": [
       "array([14, 15, 16])"
      ]
     },
     "execution_count": 23,
     "metadata": {},
     "output_type": "execute_result"
    }
   ],
   "source": [
    "arr3D[0, 1]"
   ]
  },
  {
   "cell_type": "code",
   "execution_count": 53,
   "metadata": {},
   "outputs": [
    {
     "data": {
      "text/plain": [
       "array([[15, 16],\n",
       "       [22, 23]])"
      ]
     },
     "execution_count": 53,
     "metadata": {},
     "output_type": "execute_result"
    }
   ],
   "source": [
    "arr3D[ [0,1], [1,0] ] [ [0,1], 1:3 ]\n",
    "#Mission acomplish"
   ]
  },
  {
   "cell_type": "markdown",
   "metadata": {},
   "source": [
    "# Boolean Indexing"
   ]
  },
  {
   "cell_type": "code",
   "execution_count": 62,
   "metadata": {},
   "outputs": [],
   "source": [
    "names = np.array(['Bob', 'Joe', 'Will', 'Bob', 'Will', 'Joe', 'Joe'])\n",
    "data = np.random.randn(7, 3)"
   ]
  },
  {
   "cell_type": "code",
   "execution_count": 63,
   "metadata": {},
   "outputs": [
    {
     "data": {
      "text/plain": [
       "array(['Bob', 'Joe', 'Will', 'Bob', 'Will', 'Joe', 'Joe'], dtype='<U4')"
      ]
     },
     "execution_count": 63,
     "metadata": {},
     "output_type": "execute_result"
    }
   ],
   "source": [
    "names"
   ]
  },
  {
   "cell_type": "code",
   "execution_count": 64,
   "metadata": {},
   "outputs": [
    {
     "data": {
      "text/plain": [
       "array([[ 0.81844844, -1.72162507,  0.8840978 ],\n",
       "       [ 0.83086103, -0.76306529, -0.38753516],\n",
       "       [-1.55508104,  0.45516345, -0.34828369],\n",
       "       [ 0.21814079,  0.34515678, -0.54736457],\n",
       "       [-1.84093663,  0.06792371, -1.76350105],\n",
       "       [ 0.28809798, -2.03359643,  0.76383723],\n",
       "       [-1.49458392,  0.36317937,  0.46555951]])"
      ]
     },
     "execution_count": 64,
     "metadata": {},
     "output_type": "execute_result"
    }
   ],
   "source": [
    "data"
   ]
  },
  {
   "cell_type": "code",
   "execution_count": 65,
   "metadata": {},
   "outputs": [
    {
     "data": {
      "text/plain": [
       "array([ True, False, False,  True, False, False, False])"
      ]
     },
     "execution_count": 65,
     "metadata": {},
     "output_type": "execute_result"
    }
   ],
   "source": [
    "names == 'Bob'"
   ]
  },
  {
   "cell_type": "code",
   "execution_count": 68,
   "metadata": {},
   "outputs": [
    {
     "data": {
      "text/plain": [
       "array([[ 0.81844844, -1.72162507,  0.8840978 ],\n",
       "       [ 0.21814079,  0.34515678, -0.54736457]])"
      ]
     },
     "execution_count": 68,
     "metadata": {},
     "output_type": "execute_result"
    }
   ],
   "source": [
    "data[names == 'Bob']"
   ]
  },
  {
   "cell_type": "markdown",
   "metadata": {},
   "source": [
    "# Fancy Indexing"
   ]
  },
  {
   "cell_type": "code",
   "execution_count": 2,
   "metadata": {},
   "outputs": [],
   "source": [
    "arrF = np.empty((8, 4))"
   ]
  },
  {
   "cell_type": "code",
   "execution_count": 3,
   "metadata": {},
   "outputs": [],
   "source": [
    "for i in range(8):\n",
    "    arrF[i] = i"
   ]
  },
  {
   "cell_type": "code",
   "execution_count": 4,
   "metadata": {},
   "outputs": [
    {
     "data": {
      "text/plain": [
       "array([[0., 0., 0., 0.],\n",
       "       [1., 1., 1., 1.],\n",
       "       [2., 2., 2., 2.],\n",
       "       [3., 3., 3., 3.],\n",
       "       [4., 4., 4., 4.],\n",
       "       [5., 5., 5., 5.],\n",
       "       [6., 6., 6., 6.],\n",
       "       [7., 7., 7., 7.]])"
      ]
     },
     "execution_count": 4,
     "metadata": {},
     "output_type": "execute_result"
    }
   ],
   "source": [
    "arrF"
   ]
  },
  {
   "cell_type": "code",
   "execution_count": 7,
   "metadata": {},
   "outputs": [
    {
     "data": {
      "text/plain": [
       "array([[1., 1., 1.],\n",
       "       [3., 3., 3.],\n",
       "       [5., 5., 5.],\n",
       "       [7., 7., 7.]])"
      ]
     },
     "execution_count": 7,
     "metadata": {},
     "output_type": "execute_result"
    }
   ],
   "source": [
    "arrF[[1, 3, 5, 7], 1:]"
   ]
  },
  {
   "cell_type": "code",
   "execution_count": 8,
   "metadata": {},
   "outputs": [
    {
     "data": {
      "text/plain": [
       "array([[ 0,  1,  2,  3],\n",
       "       [ 4,  5,  6,  7],\n",
       "       [ 8,  9, 10, 11],\n",
       "       [12, 13, 14, 15],\n",
       "       [16, 17, 18, 19],\n",
       "       [20, 21, 22, 23]])"
      ]
     },
     "execution_count": 8,
     "metadata": {},
     "output_type": "execute_result"
    }
   ],
   "source": [
    "arrFF = np.arange(24).reshape((6, 4))\n",
    "arrFF"
   ]
  },
  {
   "cell_type": "code",
   "execution_count": 9,
   "metadata": {},
   "outputs": [
    {
     "data": {
      "text/plain": [
       "array([[ 0,  4,  8, 12, 16, 20],\n",
       "       [ 1,  5,  9, 13, 17, 21],\n",
       "       [ 2,  6, 10, 14, 18, 22],\n",
       "       [ 3,  7, 11, 15, 19, 23]])"
      ]
     },
     "execution_count": 9,
     "metadata": {},
     "output_type": "execute_result"
    }
   ],
   "source": [
    "arrFF.T"
   ]
  },
  {
   "cell_type": "code",
   "execution_count": null,
   "metadata": {},
   "outputs": [],
   "source": []
  }
 ],
 "metadata": {
  "kernelspec": {
   "display_name": "Python 3",
   "language": "python",
   "name": "python3"
  },
  "language_info": {
   "codemirror_mode": {
    "name": "ipython",
    "version": 3
   },
   "file_extension": ".py",
   "mimetype": "text/x-python",
   "name": "python",
   "nbconvert_exporter": "python",
   "pygments_lexer": "ipython3",
   "version": "3.7.3"
  }
 },
 "nbformat": 4,
 "nbformat_minor": 2
}
