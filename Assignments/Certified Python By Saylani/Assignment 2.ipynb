{
 "cells": [
  {
   "cell_type": "markdown",
   "metadata": {},
   "source": [
    "# Assignment 2"
   ]
  },
  {
   "cell_type": "markdown",
   "metadata": {},
   "source": [
    "#### Name : Shakeel Haider¶"
   ]
  },
  {
   "cell_type": "markdown",
   "metadata": {},
   "source": [
    "#### ID : PY04233"
   ]
  },
  {
   "cell_type": "markdown",
   "metadata": {},
   "source": [
    "### Date : 27/11/2019"
   ]
  },
  {
   "cell_type": "markdown",
   "metadata": {},
   "source": [
    "#### Subject : Python Onlin"
   ]
  },
  {
   "cell_type": "markdown",
   "metadata": {},
   "source": [
    "### 1. Write a program which takes 5 inputs from user for different subject’smarks, total it and generate mark sheet using grades ?"
   ]
  },
  {
   "cell_type": "code",
   "execution_count": 1,
   "metadata": {},
   "outputs": [],
   "source": [
    "def marksheet(marks):\n",
    "    if marks > 80:\n",
    "        print(\"Congratulation ! You Got A1 Grade\")\n",
    "    elif marks > 70:\n",
    "        print(\"Congratulation ! You Got A Grade\")\n",
    "    elif marks > 60:\n",
    "        print(\"You Got B Grade\")\n",
    "    elif marks > 50:\n",
    "        print(\"You Got C Grade\")\n",
    "    elif marks > 40:\n",
    "        print(\"You Got D Grade\")\n",
    "    elif marks > 33:\n",
    "        print(\"You Got E Grade\")\n",
    "    else:\n",
    "        print(\"Sorry ! You Got F Grade\")"
   ]
  },
  {
   "cell_type": "code",
   "execution_count": 3,
   "metadata": {},
   "outputs": [
    {
     "name": "stdout",
     "output_type": "stream",
     "text": [
      "What is Your English Marks : 65\n",
      "What is Your Islamic Studies Marks : 91\n",
      "What is Your Urdu Marks : 89\n",
      "What is Your Math Marks : 75\n",
      "What is Your Biology Marks : 54\n",
      "What is Your Chemistrey Marks : 57\n",
      "You Got A1 Grade\n"
     ]
    }
   ],
   "source": [
    "subEnglish = int(input(\"What is Your English Marks : \"))\n",
    "subIslamic = int(input(\"What is Your Islamic Studies Marks : \"))\n",
    "subUrdu = int(input(\"What is Your Urdu Marks : \"))\n",
    "subMath = int(input(\"What is Your Math Marks : \"))\n",
    "subBiology = int(input(\"What is Your Biology Marks : \"))\n",
    "subChemistry = int(input(\"What is Your Chemistrey Marks : \"))\n",
    "\n",
    "totalMarks = subEnglish + subIslamic + subUrdu + subMath + subBiology + subChemistry\n",
    "marksheet(totalMarks)\n"
   ]
  },
  {
   "cell_type": "markdown",
   "metadata": {},
   "source": [
    "### Write a program which take input from user and identify that the given number is even or odd?"
   ]
  },
  {
   "cell_type": "code",
   "execution_count": 5,
   "metadata": {},
   "outputs": [
    {
     "name": "stdout",
     "output_type": "stream",
     "text": [
      "Enter Your Number : 3\n",
      "Your entered number is odd\n"
     ]
    }
   ],
   "source": [
    "nom = int(input(\"Enter Your Number : \"))\n",
    "if nom % 2 == 0:\n",
    "    print(\"Your entered number is even\")\n",
    "else:\n",
    "    print(\"Your entered number is odd\")"
   ]
  },
  {
   "cell_type": "markdown",
   "metadata": {},
   "source": [
    "### Write a program which print the length of the list?"
   ]
  },
  {
   "cell_type": "code",
   "execution_count": 6,
   "metadata": {},
   "outputs": [
    {
     "name": "stdout",
     "output_type": "stream",
     "text": [
      "11\n"
     ]
    }
   ],
   "source": [
    "list1 = [1, 2, 3, 4, 5, 'a', 'b', 'h', 'k', 2.0, 9.4]\n",
    "print(len(list1))"
   ]
  },
  {
   "cell_type": "markdown",
   "metadata": {},
   "source": [
    "### Write a Python program to sum all the numeric items in a list?"
   ]
  },
  {
   "cell_type": "code",
   "execution_count": 8,
   "metadata": {},
   "outputs": [
    {
     "name": "stdout",
     "output_type": "stream",
     "text": [
      "26.4\n"
     ]
    }
   ],
   "source": [
    "total = 0\n",
    "for i in list1:\n",
    "    if type(i) == int or type(i) == float:\n",
    "        total += i\n",
    "print(total)"
   ]
  },
  {
   "cell_type": "markdown",
   "metadata": {},
   "source": [
    "### Write a Python program to get the largest number from a numeric list."
   ]
  },
  {
   "cell_type": "code",
   "execution_count": 9,
   "metadata": {},
   "outputs": [
    {
     "name": "stdout",
     "output_type": "stream",
     "text": [
      "100\n"
     ]
    }
   ],
   "source": [
    "list2 = [1, 4, 6, 7, 9, 11, 34, 65, 7, 100]\n",
    "print(max(list2))"
   ]
  },
  {
   "cell_type": "markdown",
   "metadata": {},
   "source": [
    "### Take a list, say for example this one: a = [1, 1, 2, 3, 5, 8, 13, 21, 34, 55, 89] and write a program that prints out all the elements of the list that are less than 5."
   ]
  },
  {
   "cell_type": "code",
   "execution_count": 10,
   "metadata": {},
   "outputs": [
    {
     "name": "stdout",
     "output_type": "stream",
     "text": [
      "1\n",
      "1\n",
      "2\n",
      "3\n"
     ]
    }
   ],
   "source": [
    "a = [1, 1, 2, 3, 5, 8, 13, 21, 34, 55, 89]\n",
    "for i in a:\n",
    "    if i < 5:\n",
    "        print(i)"
   ]
  },
  {
   "cell_type": "code",
   "execution_count": null,
   "metadata": {},
   "outputs": [],
   "source": []
  }
 ],
 "metadata": {
  "kernelspec": {
   "display_name": "Python 3",
   "language": "python",
   "name": "python3"
  },
  "language_info": {
   "codemirror_mode": {
    "name": "ipython",
    "version": 3
   },
   "file_extension": ".py",
   "mimetype": "text/x-python",
   "name": "python",
   "nbconvert_exporter": "python",
   "pygments_lexer": "ipython3",
   "version": "3.7.3"
  }
 },
 "nbformat": 4,
 "nbformat_minor": 2
}
