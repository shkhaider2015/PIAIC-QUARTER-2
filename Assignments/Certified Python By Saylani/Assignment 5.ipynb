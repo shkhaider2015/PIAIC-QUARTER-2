{
 "cells": [
  {
   "cell_type": "markdown",
   "metadata": {},
   "source": [
    "# Assignment 5"
   ]
  },
  {
   "cell_type": "markdown",
   "metadata": {},
   "source": [
    "#### Name : Shakeel Haider¶"
   ]
  },
  {
   "cell_type": "markdown",
   "metadata": {},
   "source": [
    "#### ID : PY04233"
   ]
  },
  {
   "cell_type": "markdown",
   "metadata": {},
   "source": [
    "#### Date : 11/12/2019"
   ]
  },
  {
   "cell_type": "markdown",
   "metadata": {},
   "source": [
    "#### Subject : Python Onlin"
   ]
  },
  {
   "cell_type": "markdown",
   "metadata": {},
   "source": [
    "# Q1"
   ]
  },
  {
   "cell_type": "code",
   "execution_count": 3,
   "metadata": {},
   "outputs": [
    {
     "data": {
      "text/plain": [
       "120"
      ]
     },
     "execution_count": 3,
     "metadata": {},
     "output_type": "execute_result"
    }
   ],
   "source": [
    "def factorial(num):\n",
    "    if num == 1:\n",
    "        return 1\n",
    "    else:\n",
    "        return num * factorial(num - 1)\n",
    "\n",
    "factorial(5)"
   ]
  },
  {
   "cell_type": "markdown",
   "metadata": {},
   "source": [
    "# Q2"
   ]
  },
  {
   "cell_type": "code",
   "execution_count": 10,
   "metadata": {},
   "outputs": [
    {
     "name": "stdout",
     "output_type": "stream",
     "text": [
      "Enter String : ShakeEL\n",
      "Result : {'Upper': 3, 'Lower': 4}\n"
     ]
    }
   ],
   "source": [
    "def lengthOfString(string):\n",
    "    dict1 = {\"Upper\" : 0, \"Lower\" : 0}\n",
    "    for char in string:\n",
    "        if char.isupper():\n",
    "            dict1[\"Upper\"] += 1\n",
    "        elif char.islower():\n",
    "            dict1[\"Lower\"] += 1\n",
    "        else:\n",
    "            pass\n",
    "    print(f\"Result : {dict1}\")\n",
    "string = str(input(\"Enter String : \"))\n",
    "lengthOfString(string)"
   ]
  },
  {
   "cell_type": "markdown",
   "metadata": {},
   "source": [
    "# Q3"
   ]
  },
  {
   "cell_type": "code",
   "execution_count": 11,
   "metadata": {},
   "outputs": [
    {
     "name": "stdout",
     "output_type": "stream",
     "text": [
      "Even : 2\n",
      "Even : 4\n",
      "Even : 88\n",
      "Even : 964\n"
     ]
    }
   ],
   "source": [
    "def even(list1):\n",
    "    for i in list1:\n",
    "        if i % 2 == 0:\n",
    "            print(f\"Even : {i}\")\n",
    "list1 = [ 1, 3, 5, 2, 4, 27, 88, 964]\n",
    "even(list1)"
   ]
  },
  {
   "cell_type": "markdown",
   "metadata": {},
   "source": [
    "# Q4"
   ]
  },
  {
   "cell_type": "code",
   "execution_count": 19,
   "metadata": {},
   "outputs": [
    {
     "name": "stdout",
     "output_type": "stream",
     "text": [
      "madam is Pallendrom\n"
     ]
    }
   ],
   "source": [
    "def pallendrom(string2):\n",
    "    string2 = string2.lower()\n",
    "    if string2 == string2[::-1]:\n",
    "        print(f\"{string2} is Pallendrom\")\n",
    "    else:\n",
    "        print(f\"{string2} is not Pallendrom\")\n",
    "pallendrom(\"maDam\")"
   ]
  },
  {
   "cell_type": "markdown",
   "metadata": {},
   "source": [
    "# Q5"
   ]
  },
  {
   "cell_type": "code",
   "execution_count": 26,
   "metadata": {},
   "outputs": [
    {
     "name": "stdout",
     "output_type": "stream",
     "text": [
      "11 is prime\n"
     ]
    }
   ],
   "source": [
    "def prime(num):\n",
    "    if num > 1:\n",
    "        for i in range(2, num):\n",
    "            if num % i == 0:\n",
    "                print(f\"{num} is not prime\")\n",
    "                print(f\"{i} times {num/i} is {num} \")\n",
    "                break\n",
    "            else:\n",
    "                print(f\"{num} is prime\")\n",
    "                break\n",
    "    else:\n",
    "        print(f\"{num} culd not be a prime\")\n",
    "prime(11)"
   ]
  },
  {
   "cell_type": "markdown",
   "metadata": {},
   "source": [
    "# Q6"
   ]
  },
  {
   "cell_type": "code",
   "execution_count": 29,
   "metadata": {},
   "outputs": [
    {
     "name": "stdout",
     "output_type": "stream",
     "text": [
      "('Masala', 'Meddison', 'Watch')\n"
     ]
    }
   ],
   "source": [
    "def items(*opt):\n",
    "    print(opt)\n",
    "\n",
    "items(\"Masala\", \"Meddison\", \"Watch\")"
   ]
  },
  {
   "cell_type": "code",
   "execution_count": null,
   "metadata": {},
   "outputs": [],
   "source": []
  }
 ],
 "metadata": {
  "kernelspec": {
   "display_name": "Python 3",
   "language": "python",
   "name": "python3"
  },
  "language_info": {
   "codemirror_mode": {
    "name": "ipython",
    "version": 3
   },
   "file_extension": ".py",
   "mimetype": "text/x-python",
   "name": "python",
   "nbconvert_exporter": "python",
   "pygments_lexer": "ipython3",
   "version": "3.7.3"
  }
 },
 "nbformat": 4,
 "nbformat_minor": 2
}
