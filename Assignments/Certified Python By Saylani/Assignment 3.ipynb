{
 "cells": [
  {
   "cell_type": "markdown",
   "metadata": {},
   "source": [
    "# Assignment 3"
   ]
  },
  {
   "cell_type": "markdown",
   "metadata": {},
   "source": [
    "#### Name : Shakeel Haider¶"
   ]
  },
  {
   "cell_type": "markdown",
   "metadata": {},
   "source": [
    "#### ID : PY04233"
   ]
  },
  {
   "cell_type": "markdown",
   "metadata": {},
   "source": [
    "### Date : 27/11/2019"
   ]
  },
  {
   "cell_type": "markdown",
   "metadata": {},
   "source": [
    "### Subject : Python Onlin"
   ]
  },
  {
   "cell_type": "markdown",
   "metadata": {},
   "source": [
    "### 1 Make a calculator using Python with addition , subtraction , multiplication , division and power."
   ]
  },
  {
   "cell_type": "code",
   "execution_count": 2,
   "metadata": {},
   "outputs": [
    {
     "name": "stdout",
     "output_type": "stream",
     "text": [
      "2 + 5 = 7\n",
      "10 - 5 = 5\n",
      "2 x 5 = 10\n",
      "15 / 5 = 3.0\n",
      "3 sqrt 2 = 9\n"
     ]
    }
   ],
   "source": [
    "def addition(num1, num2):\n",
    "    return num1 + num2\n",
    "def subtraction(num1, num2):\n",
    "    return num1 - num2\n",
    "def multiplication(num1, num2):\n",
    "    return num1 * num2\n",
    "def division(num1, num2):\n",
    "    return num1 / num2\n",
    "def power(num, power):\n",
    "    return num ** power\n",
    "\n",
    "print(f\"2 + 5 = {addition(2,5)}\")\n",
    "print(f\"10 - 5 = {subtraction(10,5)}\")\n",
    "print(f\"2 x 5 = {multiplication(2,5)}\")\n",
    "print(f\"15 / 5 = {division(15,5)}\")\n",
    "print(f\"3 sqrt 2 = {power(3,2)}\")"
   ]
  },
  {
   "cell_type": "markdown",
   "metadata": {},
   "source": [
    "### 2 Write a program to check if there is any numeric value in list using for loop"
   ]
  },
  {
   "cell_type": "code",
   "execution_count": 3,
   "metadata": {},
   "outputs": [
    {
     "name": "stdout",
     "output_type": "stream",
     "text": [
      "This is numeric value : 8\n",
      "This is numeric value : 9\n",
      "This is numeric value : 6.6\n"
     ]
    }
   ],
   "source": [
    "list1 = ['a', 'j', 'k', 8, 9, 6.6, 'l', 'e']\n",
    "for i in list1:\n",
    "    if type(i) == int or type(i) == float:\n",
    "        print(f\"This is numeric value : {i}\")"
   ]
  },
  {
   "cell_type": "markdown",
   "metadata": {},
   "source": [
    "### 3 Write a Python script to add a key to a dictionary"
   ]
  },
  {
   "cell_type": "code",
   "execution_count": 4,
   "metadata": {},
   "outputs": [
    {
     "data": {
      "text/plain": [
       "{'name': 'shakeel', 'cell': '+923460027852', 'age': 26}"
      ]
     },
     "execution_count": 4,
     "metadata": {},
     "output_type": "execute_result"
    }
   ],
   "source": [
    "dict1 = { 'name' : 'shakeel', 'cell' : '+923460027852'}\n",
    "dict1['age'] = 26\n",
    "dict1"
   ]
  },
  {
   "cell_type": "markdown",
   "metadata": {},
   "source": [
    "### 4 Write a Python program to sum all the numeric items in a dictionary"
   ]
  },
  {
   "cell_type": "code",
   "execution_count": 6,
   "metadata": {},
   "outputs": [
    {
     "name": "stdout",
     "output_type": "stream",
     "text": [
      "Sum of numeric values are : 313\n"
     ]
    }
   ],
   "source": [
    "dict2 = { 'math' : 67, 'english' : 69, 'urdu' : 78, 'programming' : 99 }\n",
    "total = 0\n",
    "for v in dict2.values():\n",
    "    total += v\n",
    "print(f\"Sum of numeric values are : {total}\")"
   ]
  },
  {
   "cell_type": "markdown",
   "metadata": {},
   "source": [
    "### 5 Write a program to identify duplicate values from list"
   ]
  },
  {
   "cell_type": "code",
   "execution_count": 15,
   "metadata": {},
   "outputs": [
    {
     "name": "stdout",
     "output_type": "stream",
     "text": [
      "{12, 'a'}\n"
     ]
    }
   ],
   "source": [
    "list3 = [12, 13, 14, 12, 'a', 'j', 'a']\n",
    "duplicate = []\n",
    "for i in list3:\n",
    "    if list3.count(i) > 1:\n",
    "        duplicate.append(i)\n",
    "print(set(duplicate))"
   ]
  },
  {
   "cell_type": "markdown",
   "metadata": {},
   "source": [
    "### 6 Write a Python script to check if a given key already exists in a dictionary"
   ]
  },
  {
   "cell_type": "code",
   "execution_count": 23,
   "metadata": {},
   "outputs": [
    {
     "name": "stdout",
     "output_type": "stream",
     "text": [
      "key is not exist\n",
      "{'a': 12, 'b': 13, 'c': 14, 'd': 15}\n"
     ]
    }
   ],
   "source": [
    "dict3 = { 'a' : 12, 'b' : 13, 'c' : 14}\n",
    "newkey = 'd'\n",
    "if newkey in dict3.keys():\n",
    "    print(\"Key is exist\")\n",
    "else:\n",
    "    dict3[newkey] = 15\n",
    "    print('key is not exist')\n",
    "print(dict3)"
   ]
  },
  {
   "cell_type": "code",
   "execution_count": null,
   "metadata": {},
   "outputs": [],
   "source": []
  }
 ],
 "metadata": {
  "kernelspec": {
   "display_name": "Python 3",
   "language": "python",
   "name": "python3"
  },
  "language_info": {
   "codemirror_mode": {
    "name": "ipython",
    "version": 3
   },
   "file_extension": ".py",
   "mimetype": "text/x-python",
   "name": "python",
   "nbconvert_exporter": "python",
   "pygments_lexer": "ipython3",
   "version": "3.7.3"
  }
 },
 "nbformat": 4,
 "nbformat_minor": 2
}
