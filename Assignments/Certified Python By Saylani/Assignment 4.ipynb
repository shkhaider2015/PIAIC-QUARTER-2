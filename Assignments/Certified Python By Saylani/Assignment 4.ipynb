{
 "cells": [
  {
   "cell_type": "markdown",
   "metadata": {},
   "source": [
    "# Assignment 4"
   ]
  },
  {
   "cell_type": "markdown",
   "metadata": {},
   "source": [
    "### Name : Shakeel Haider"
   ]
  },
  {
   "cell_type": "markdown",
   "metadata": {},
   "source": [
    "#### ID : PY04233"
   ]
  },
  {
   "cell_type": "markdown",
   "metadata": {},
   "source": [
    "#### Date : 27/11/2019"
   ]
  },
  {
   "cell_type": "markdown",
   "metadata": {},
   "source": [
    "#### Subject : Python Onlin"
   ]
  },
  {
   "cell_type": "markdown",
   "metadata": {},
   "source": [
    "# ------------------------------------------------------------"
   ]
  },
  {
   "cell_type": "markdown",
   "metadata": {},
   "source": [
    "###### Question 1 : Use a dictionary to store information about a person you know. Store their first name, last name, age, and the city in which they live. You should have keys such as first_name, last_name, age, and city. Print each piece of information stored in your dictionary. Add a new key value pair about qualification then update the qualification value to high academic level then delete it."
   ]
  },
  {
   "cell_type": "code",
   "execution_count": 5,
   "metadata": {},
   "outputs": [
    {
     "name": "stdout",
     "output_type": "stream",
     "text": [
      "first_name : shakeel \n",
      "\n",
      "last_name : haider \n",
      "\n",
      "age : 26 \n",
      "\n",
      "city : karachi \n",
      "\n",
      "Added New Key Value pair\n",
      "{'first_name': 'shakeel', 'last_name': 'haider', 'age': 26, 'city': 'karachi', 'qualification': 'Intermediate'}\n",
      "updated Dictionary\n",
      "{'first_name': 'shakeel', 'last_name': 'haider', 'age': 26, 'city': 'karachi', 'qualification': 'Bachlor'}\n"
     ]
    }
   ],
   "source": [
    "dict1 = { 'first_name' : 'shakeel', 'last_name' : 'haider', 'age' : 26, 'city' : 'karachi' }\n",
    "for k,v in dict1.items():\n",
    "    print(f\"{k} : {v} \\n\")\n",
    "print(\"Added New Key Value pair\")\n",
    "dict1['qualification'] = 'Intermediate'\n",
    "print(dict1)\n",
    "print(\"updated Dictionary\")\n",
    "dict1['qualification'] = 'Bachlor'\n",
    "print(dict1)"
   ]
  },
  {
   "cell_type": "markdown",
   "metadata": {},
   "source": [
    "###### Question 2 :  Make a dictionary called cities. Use the names of three cities as keys in your dictionary. Create a dictionary of information about each city and include the country that the city is in, its approximate population, and one fact about that city. The keys for each city’s dictionary should be something like country, population, and fact. Print the name of each city and all of the information you have stored about it."
   ]
  },
  {
   "cell_type": "code",
   "execution_count": 16,
   "metadata": {},
   "outputs": [
    {
     "name": "stdout",
     "output_type": "stream",
     "text": [
      "Karachi Information\n",
      "country : pakistan\n",
      "population : 14.91 million\n",
      "fact : biryani\n",
      "Peshawar Information\n",
      "country : pakistan\n",
      "population : 1.97 million\n",
      "fact : kabab\n",
      "Quetta Information\n",
      "country : pakistan\n",
      "population : 1.01 million\n",
      "fact : dry fruit\n"
     ]
    }
   ],
   "source": [
    "cities = { 'karachi' : '' , 'peshawar' : '', 'quetta' : '' }\n",
    "\n",
    "karachi = { 'country' : 'pakistan', 'population' : '14.91 million', 'fact' : 'biryani'}\n",
    "peshawar = { 'country' : 'pakistan', 'population' : '1.97 million', 'fact' : 'kabab'}\n",
    "quetta = { 'country' : 'pakistan', 'population' : '1.01 million', 'fact' : 'dry fruit'}\n",
    "\n",
    "for k in cities.keys():\n",
    "    if k == 'karachi':\n",
    "        print(\"Karachi Information\")\n",
    "        for i,j in karachi.items():\n",
    "            print(f\"{i} : {j}\")\n",
    "    elif k == 'peshawar':\n",
    "        print(\"Peshawar Information\")\n",
    "        for i,j in peshawar.items():\n",
    "            print(f\"{i} : {j}\")\n",
    "    else:\n",
    "        print(\"Quetta Information\")\n",
    "        for i,j in quetta.items():\n",
    "            print(f\"{i} : {j}\")\n"
   ]
  },
  {
   "cell_type": "markdown",
   "metadata": {},
   "source": [
    "###### Question 3 : A movie theater charges different ticket prices depending on a person’s age. If a person is under the age of 3, the ticket is free; if they are between 3 and 12, the ticket is \\\\$10; and if they are over age 12, the ticket is \\\\$15. Write a loop in which you ask users their age, and then tell them the cost of their movie ticket."
   ]
  },
  {
   "cell_type": "code",
   "execution_count": 17,
   "metadata": {},
   "outputs": [
    {
     "name": "stdout",
     "output_type": "stream",
     "text": [
      "Enter You age : 2\n",
      "Your ticket is FREE !!\n",
      "Enter You age : 4\n",
      "Your ticket price is $10\n",
      "Enter You age : 14\n",
      "Your ticket price is $15\n",
      "Enter You age : 22\n",
      "Your ticket price is $15\n",
      "Enter You age : 12\n",
      "Your ticket price is $15\n"
     ]
    }
   ],
   "source": [
    "for i in range(5):\n",
    "    age = int(input(\"Enter You age : \"))\n",
    "    if age < 3:\n",
    "        print(\"Your ticket is FREE !!\")\n",
    "    elif age < 12:\n",
    "        print(\"Your ticket price is $10\")\n",
    "    else:\n",
    "        print(\"Your ticket price is $15\")"
   ]
  },
  {
   "cell_type": "markdown",
   "metadata": {},
   "source": [
    "###### Question 4 : Write a function called favorite_book() that accepts one parameter, title. The function should print a message, such as One of my favorite books is Alice in Wonderland. Call the function, making sure to include a book title as an argument in the function call."
   ]
  },
  {
   "cell_type": "code",
   "execution_count": 18,
   "metadata": {},
   "outputs": [],
   "source": [
    "def favorite_book(title):\n",
    "    print(f\"One of my favorite book is {title}\")"
   ]
  },
  {
   "cell_type": "code",
   "execution_count": 19,
   "metadata": {},
   "outputs": [
    {
     "name": "stdout",
     "output_type": "stream",
     "text": [
      "One of my favorite book is Dastaan Iman Faroshon Ki\n"
     ]
    }
   ],
   "source": [
    "favorite_book(\"Dastaan Iman Faroshon Ki\")"
   ]
  },
  {
   "cell_type": "markdown",
   "metadata": {},
   "source": [
    "##### Question 5 : Guess the number game -------> Write a program which randomly generate a number between 1 to 30 and ask the user in input field to guess the correct number. Give three chances to user guess the number and also give hint to user if hidden number is greater or smaller than the number he given to input field."
   ]
  },
  {
   "cell_type": "code",
   "execution_count": 4,
   "metadata": {},
   "outputs": [
    {
     "name": "stdout",
     "output_type": "stream",
     "text": [
      "21\n",
      "Guess The Number - chance 1 : 22\n",
      "Hint !! your number is less than target\n",
      "Guess The Number - chance 2 : 20\n",
      "Hint !! your number is greater than target\n",
      "Guess The Number - chance 3 : 21\n",
      "You win !!!\n"
     ]
    }
   ],
   "source": [
    "from random import randint\n",
    "number = randint(0, 30)\n",
    "cond = False\n",
    "print(number)\n",
    "def fun(number, chance):\n",
    "    global cond\n",
    "    if number == chance:\n",
    "        print(\"You win !!!\")\n",
    "        cond = True\n",
    "    elif number < chance:\n",
    "        print(\"Hint !! your number is greater than target\")\n",
    "    else:\n",
    "        print(\"Hint !! your number is less than target\")\n",
    "        \n",
    "        \n",
    "\n",
    "for i in range(3):\n",
    "    if cond == True:\n",
    "        break\n",
    "    else:\n",
    "        chance = int(input(f\"Guess The Number - chance {i+1} : \"))\n",
    "        fun(number, chance)\n"
   ]
  },
  {
   "cell_type": "code",
   "execution_count": null,
   "metadata": {},
   "outputs": [],
   "source": []
  }
 ],
 "metadata": {
  "kernelspec": {
   "display_name": "Python 3",
   "language": "python",
   "name": "python3"
  },
  "language_info": {
   "codemirror_mode": {
    "name": "ipython",
    "version": 3
   },
   "file_extension": ".py",
   "mimetype": "text/x-python",
   "name": "python",
   "nbconvert_exporter": "python",
   "pygments_lexer": "ipython3",
   "version": "3.7.3"
  }
 },
 "nbformat": 4,
 "nbformat_minor": 2
}
