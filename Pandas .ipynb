{
 "cells": [
  {
   "cell_type": "code",
   "execution_count": 3,
   "metadata": {},
   "outputs": [],
   "source": [
    "import pandas as pd"
   ]
  },
  {
   "cell_type": "code",
   "execution_count": 4,
   "metadata": {},
   "outputs": [],
   "source": [
    "data_path = 'soccerData.csv'"
   ]
  },
  {
   "cell_type": "code",
   "execution_count": 5,
   "metadata": {},
   "outputs": [],
   "source": [
    "data_frame = pd.read_csv(data_path)"
   ]
  },
  {
   "cell_type": "code",
   "execution_count": 6,
   "metadata": {},
   "outputs": [
    {
     "data": {
      "text/html": [
       "<div>\n",
       "<style scoped>\n",
       "    .dataframe tbody tr th:only-of-type {\n",
       "        vertical-align: middle;\n",
       "    }\n",
       "\n",
       "    .dataframe tbody tr th {\n",
       "        vertical-align: top;\n",
       "    }\n",
       "\n",
       "    .dataframe thead th {\n",
       "        text-align: right;\n",
       "    }\n",
       "</style>\n",
       "<table border=\"1\" class=\"dataframe\">\n",
       "  <thead>\n",
       "    <tr style=\"text-align: right;\">\n",
       "      <th></th>\n",
       "      <th>TEAM</th>\n",
       "      <th>PLAYER</th>\n",
       "      <th>POSITION</th>\n",
       "    </tr>\n",
       "  </thead>\n",
       "  <tbody>\n",
       "    <tr>\n",
       "      <th>0</th>\n",
       "      <td>FCB</td>\n",
       "      <td>Messi</td>\n",
       "      <td>Forward</td>\n",
       "    </tr>\n",
       "    <tr>\n",
       "      <th>1</th>\n",
       "      <td>FCB</td>\n",
       "      <td>Suarez</td>\n",
       "      <td>Forward</td>\n",
       "    </tr>\n",
       "    <tr>\n",
       "      <th>2</th>\n",
       "      <td>FCB</td>\n",
       "      <td>Grizman</td>\n",
       "      <td>Forward</td>\n",
       "    </tr>\n",
       "    <tr>\n",
       "      <th>3</th>\n",
       "      <td>FCB</td>\n",
       "      <td>De Jong</td>\n",
       "      <td>Midfielder</td>\n",
       "    </tr>\n",
       "    <tr>\n",
       "      <th>4</th>\n",
       "      <td>FCB</td>\n",
       "      <td>TersTagan</td>\n",
       "      <td>Goalkeeper</td>\n",
       "    </tr>\n",
       "    <tr>\n",
       "      <th>5</th>\n",
       "      <td>FCB</td>\n",
       "      <td>Authur</td>\n",
       "      <td>Midfielder</td>\n",
       "    </tr>\n",
       "    <tr>\n",
       "      <th>6</th>\n",
       "      <td>FCB</td>\n",
       "      <td>Arthur</td>\n",
       "      <td>Midfielder</td>\n",
       "    </tr>\n",
       "    <tr>\n",
       "      <th>7</th>\n",
       "      <td>RM</td>\n",
       "      <td>Hazard</td>\n",
       "      <td>Forward</td>\n",
       "    </tr>\n",
       "    <tr>\n",
       "      <th>8</th>\n",
       "      <td>RM</td>\n",
       "      <td>Isco</td>\n",
       "      <td>Forward</td>\n",
       "    </tr>\n",
       "    <tr>\n",
       "      <th>9</th>\n",
       "      <td>RM</td>\n",
       "      <td>Binzema</td>\n",
       "      <td>Forward</td>\n",
       "    </tr>\n",
       "    <tr>\n",
       "      <th>10</th>\n",
       "      <td>RM</td>\n",
       "      <td>Modrich</td>\n",
       "      <td>Midfielder</td>\n",
       "    </tr>\n",
       "    <tr>\n",
       "      <th>11</th>\n",
       "      <td>RM</td>\n",
       "      <td>Toni Kroos</td>\n",
       "      <td>Midfielder</td>\n",
       "    </tr>\n",
       "    <tr>\n",
       "      <th>12</th>\n",
       "      <td>PSG</td>\n",
       "      <td>Mbappe</td>\n",
       "      <td>Forward</td>\n",
       "    </tr>\n",
       "    <tr>\n",
       "      <th>13</th>\n",
       "      <td>BM</td>\n",
       "      <td>Coutinho</td>\n",
       "      <td>Forward</td>\n",
       "    </tr>\n",
       "    <tr>\n",
       "      <th>14</th>\n",
       "      <td>BM</td>\n",
       "      <td>Pavard</td>\n",
       "      <td>Defender</td>\n",
       "    </tr>\n",
       "    <tr>\n",
       "      <th>15</th>\n",
       "      <td>BM</td>\n",
       "      <td>Lewandolski</td>\n",
       "      <td>Forward</td>\n",
       "    </tr>\n",
       "    <tr>\n",
       "      <th>16</th>\n",
       "      <td>BM</td>\n",
       "      <td>Nuer</td>\n",
       "      <td>Goalkeeper</td>\n",
       "    </tr>\n",
       "  </tbody>\n",
       "</table>\n",
       "</div>"
      ],
      "text/plain": [
       "   TEAM       PLAYER    POSITION\n",
       "0   FCB        Messi     Forward\n",
       "1   FCB       Suarez     Forward\n",
       "2   FCB      Grizman     Forward\n",
       "3   FCB      De Jong  Midfielder\n",
       "4   FCB    TersTagan  Goalkeeper\n",
       "5   FCB       Authur  Midfielder\n",
       "6   FCB       Arthur  Midfielder\n",
       "7    RM       Hazard     Forward\n",
       "8    RM         Isco     Forward\n",
       "9    RM      Binzema     Forward\n",
       "10   RM      Modrich  Midfielder\n",
       "11   RM   Toni Kroos  Midfielder\n",
       "12  PSG       Mbappe     Forward\n",
       "13   BM     Coutinho     Forward\n",
       "14   BM       Pavard    Defender\n",
       "15   BM  Lewandolski     Forward\n",
       "16   BM         Nuer  Goalkeeper"
      ]
     },
     "execution_count": 6,
     "metadata": {},
     "output_type": "execute_result"
    }
   ],
   "source": [
    "data_frame"
   ]
  },
  {
   "cell_type": "code",
   "execution_count": 7,
   "metadata": {},
   "outputs": [
    {
     "data": {
      "text/html": [
       "<div>\n",
       "<style scoped>\n",
       "    .dataframe tbody tr th:only-of-type {\n",
       "        vertical-align: middle;\n",
       "    }\n",
       "\n",
       "    .dataframe tbody tr th {\n",
       "        vertical-align: top;\n",
       "    }\n",
       "\n",
       "    .dataframe thead th {\n",
       "        text-align: right;\n",
       "    }\n",
       "</style>\n",
       "<table border=\"1\" class=\"dataframe\">\n",
       "  <thead>\n",
       "    <tr style=\"text-align: right;\">\n",
       "      <th></th>\n",
       "      <th>TEAM</th>\n",
       "      <th>PLAYER</th>\n",
       "      <th>POSITION</th>\n",
       "    </tr>\n",
       "  </thead>\n",
       "  <tbody>\n",
       "    <tr>\n",
       "      <th>0</th>\n",
       "      <td>FCB</td>\n",
       "      <td>Messi</td>\n",
       "      <td>Forward</td>\n",
       "    </tr>\n",
       "    <tr>\n",
       "      <th>1</th>\n",
       "      <td>FCB</td>\n",
       "      <td>Suarez</td>\n",
       "      <td>Forward</td>\n",
       "    </tr>\n",
       "    <tr>\n",
       "      <th>2</th>\n",
       "      <td>FCB</td>\n",
       "      <td>Grizman</td>\n",
       "      <td>Forward</td>\n",
       "    </tr>\n",
       "    <tr>\n",
       "      <th>3</th>\n",
       "      <td>FCB</td>\n",
       "      <td>De Jong</td>\n",
       "      <td>Midfielder</td>\n",
       "    </tr>\n",
       "    <tr>\n",
       "      <th>4</th>\n",
       "      <td>FCB</td>\n",
       "      <td>TersTagan</td>\n",
       "      <td>Goalkeeper</td>\n",
       "    </tr>\n",
       "  </tbody>\n",
       "</table>\n",
       "</div>"
      ],
      "text/plain": [
       "  TEAM     PLAYER    POSITION\n",
       "0  FCB      Messi     Forward\n",
       "1  FCB     Suarez     Forward\n",
       "2  FCB    Grizman     Forward\n",
       "3  FCB    De Jong  Midfielder\n",
       "4  FCB  TersTagan  Goalkeeper"
      ]
     },
     "execution_count": 7,
     "metadata": {},
     "output_type": "execute_result"
    }
   ],
   "source": [
    "# head() function return first five rows of data frame\n",
    "data_frame.head()"
   ]
  },
  {
   "cell_type": "markdown",
   "metadata": {},
   "source": [
    "## Making Data Frame out of Dictionary"
   ]
  },
  {
   "cell_type": "code",
   "execution_count": 8,
   "metadata": {},
   "outputs": [],
   "source": [
    "team_list = ['FCB', 'RM', 'PSG', 'BM']\n",
    "player_list = ['messi', 'modric', 'coutinho', 'mbappe']\n",
    "position_list = ['forward', 'midfielder', 'goalkeeper', 'defender']"
   ]
  },
  {
   "cell_type": "code",
   "execution_count": 9,
   "metadata": {},
   "outputs": [],
   "source": [
    "dictionary = {\n",
    "    'TEAMS' : team_list,\n",
    "    'PLAYERS' : player_list,\n",
    "    'POSITION' : position_list\n",
    "}"
   ]
  },
  {
   "cell_type": "code",
   "execution_count": 10,
   "metadata": {},
   "outputs": [
    {
     "data": {
      "text/html": [
       "<div>\n",
       "<style scoped>\n",
       "    .dataframe tbody tr th:only-of-type {\n",
       "        vertical-align: middle;\n",
       "    }\n",
       "\n",
       "    .dataframe tbody tr th {\n",
       "        vertical-align: top;\n",
       "    }\n",
       "\n",
       "    .dataframe thead th {\n",
       "        text-align: right;\n",
       "    }\n",
       "</style>\n",
       "<table border=\"1\" class=\"dataframe\">\n",
       "  <thead>\n",
       "    <tr style=\"text-align: right;\">\n",
       "      <th></th>\n",
       "      <th>TEAMS</th>\n",
       "      <th>PLAYERS</th>\n",
       "      <th>POSITION</th>\n",
       "    </tr>\n",
       "  </thead>\n",
       "  <tbody>\n",
       "    <tr>\n",
       "      <th>0</th>\n",
       "      <td>FCB</td>\n",
       "      <td>messi</td>\n",
       "      <td>forward</td>\n",
       "    </tr>\n",
       "    <tr>\n",
       "      <th>1</th>\n",
       "      <td>RM</td>\n",
       "      <td>modric</td>\n",
       "      <td>midfielder</td>\n",
       "    </tr>\n",
       "    <tr>\n",
       "      <th>2</th>\n",
       "      <td>PSG</td>\n",
       "      <td>coutinho</td>\n",
       "      <td>goalkeeper</td>\n",
       "    </tr>\n",
       "    <tr>\n",
       "      <th>3</th>\n",
       "      <td>BM</td>\n",
       "      <td>mbappe</td>\n",
       "      <td>defender</td>\n",
       "    </tr>\n",
       "  </tbody>\n",
       "</table>\n",
       "</div>"
      ],
      "text/plain": [
       "  TEAMS   PLAYERS    POSITION\n",
       "0   FCB     messi     forward\n",
       "1    RM    modric  midfielder\n",
       "2   PSG  coutinho  goalkeeper\n",
       "3    BM    mbappe    defender"
      ]
     },
     "execution_count": 10,
     "metadata": {},
     "output_type": "execute_result"
    }
   ],
   "source": [
    "data_frame_from_dictionary = pd.DataFrame(dictionary)\n",
    "data_frame_from_dictionary"
   ]
  },
  {
   "cell_type": "code",
   "execution_count": 11,
   "metadata": {},
   "outputs": [],
   "source": [
    "player_dataFrame = data_frame[['PLAYER']]"
   ]
  },
  {
   "cell_type": "code",
   "execution_count": 12,
   "metadata": {},
   "outputs": [],
   "source": [
    "Team_Position_DataFrame = data_frame[['TEAM','POSITION']]"
   ]
  },
  {
   "cell_type": "code",
   "execution_count": 13,
   "metadata": {},
   "outputs": [],
   "source": [
    "## access to unique element using ix() method\n",
    "## data_frame.ix[0,0]\n",
    "## it gives ERROR ix[] is deprecated\n",
    "## new methods are loc[] and iloc[]"
   ]
  },
  {
   "cell_type": "code",
   "execution_count": 14,
   "metadata": {},
   "outputs": [
    {
     "data": {
      "text/plain": [
       "'FCB'"
      ]
     },
     "execution_count": 14,
     "metadata": {},
     "output_type": "execute_result"
    }
   ],
   "source": [
    "data_frame.iloc[0,0]"
   ]
  },
  {
   "cell_type": "code",
   "execution_count": 15,
   "metadata": {},
   "outputs": [
    {
     "data": {
      "text/plain": [
       "'Messi'"
      ]
     },
     "execution_count": 15,
     "metadata": {},
     "output_type": "execute_result"
    }
   ],
   "source": [
    "data_frame.iloc[0,1]"
   ]
  },
  {
   "cell_type": "code",
   "execution_count": 16,
   "metadata": {},
   "outputs": [
    {
     "data": {
      "text/plain": [
       "'De Jong'"
      ]
     },
     "execution_count": 16,
     "metadata": {},
     "output_type": "execute_result"
    }
   ],
   "source": [
    "data_frame.iloc[3,1]"
   ]
  },
  {
   "cell_type": "code",
   "execution_count": 17,
   "metadata": {},
   "outputs": [],
   "source": [
    "## using name of column\n",
    "## data_frame.iloc[0,'PLAYER']\n",
    "## it gives ERROR"
   ]
  },
  {
   "cell_type": "code",
   "execution_count": 18,
   "metadata": {},
   "outputs": [
    {
     "data": {
      "text/html": [
       "<div>\n",
       "<style scoped>\n",
       "    .dataframe tbody tr th:only-of-type {\n",
       "        vertical-align: middle;\n",
       "    }\n",
       "\n",
       "    .dataframe tbody tr th {\n",
       "        vertical-align: top;\n",
       "    }\n",
       "\n",
       "    .dataframe thead th {\n",
       "        text-align: right;\n",
       "    }\n",
       "</style>\n",
       "<table border=\"1\" class=\"dataframe\">\n",
       "  <thead>\n",
       "    <tr style=\"text-align: right;\">\n",
       "      <th></th>\n",
       "      <th>TEAM</th>\n",
       "      <th>PLAYER</th>\n",
       "    </tr>\n",
       "  </thead>\n",
       "  <tbody>\n",
       "    <tr>\n",
       "      <th>0</th>\n",
       "      <td>FCB</td>\n",
       "      <td>Messi</td>\n",
       "    </tr>\n",
       "    <tr>\n",
       "      <th>1</th>\n",
       "      <td>FCB</td>\n",
       "      <td>Suarez</td>\n",
       "    </tr>\n",
       "    <tr>\n",
       "      <th>2</th>\n",
       "      <td>FCB</td>\n",
       "      <td>Grizman</td>\n",
       "    </tr>\n",
       "    <tr>\n",
       "      <th>3</th>\n",
       "      <td>FCB</td>\n",
       "      <td>De Jong</td>\n",
       "    </tr>\n",
       "    <tr>\n",
       "      <th>4</th>\n",
       "      <td>FCB</td>\n",
       "      <td>TersTagan</td>\n",
       "    </tr>\n",
       "    <tr>\n",
       "      <th>5</th>\n",
       "      <td>FCB</td>\n",
       "      <td>Authur</td>\n",
       "    </tr>\n",
       "  </tbody>\n",
       "</table>\n",
       "</div>"
      ],
      "text/plain": [
       "  TEAM     PLAYER\n",
       "0  FCB      Messi\n",
       "1  FCB     Suarez\n",
       "2  FCB    Grizman\n",
       "3  FCB    De Jong\n",
       "4  FCB  TersTagan\n",
       "5  FCB     Authur"
      ]
     },
     "execution_count": 18,
     "metadata": {},
     "output_type": "execute_result"
    }
   ],
   "source": [
    "data_frame.iloc[0:6, 0:2]"
   ]
  },
  {
   "cell_type": "code",
   "execution_count": 19,
   "metadata": {},
   "outputs": [
    {
     "data": {
      "text/plain": [
       "array(['FCB', 'RM', 'PSG', 'BM'], dtype=object)"
      ]
     },
     "execution_count": 19,
     "metadata": {},
     "output_type": "execute_result"
    }
   ],
   "source": [
    "## returns unique elements\n",
    "data_frame['TEAM'].unique()"
   ]
  },
  {
   "cell_type": "code",
   "execution_count": 20,
   "metadata": {},
   "outputs": [
    {
     "data": {
      "text/plain": [
       "0      True\n",
       "1      True\n",
       "2      True\n",
       "3     False\n",
       "4     False\n",
       "5     False\n",
       "6     False\n",
       "7      True\n",
       "8      True\n",
       "9      True\n",
       "10    False\n",
       "11    False\n",
       "12     True\n",
       "13     True\n",
       "14    False\n",
       "15     True\n",
       "16    False\n",
       "Name: POSITION, dtype: bool"
      ]
     },
     "execution_count": 20,
     "metadata": {},
     "output_type": "execute_result"
    }
   ],
   "source": [
    "## return boolean values\n",
    "data_frame['POSITION']=='Forward'"
   ]
  },
  {
   "cell_type": "code",
   "execution_count": 21,
   "metadata": {},
   "outputs": [],
   "source": [
    "# save data as csv\n",
    "# data_frame.to_csv('newFile.csv')\n",
    "# we can also data frame to other formate"
   ]
  },
  {
   "cell_type": "markdown",
   "metadata": {},
   "source": [
    "## Diffrence Between ix[] , loc[] and iloc[]"
   ]
  },
  {
   "cell_type": "code",
   "execution_count": 22,
   "metadata": {},
   "outputs": [],
   "source": [
    "# loc[] used for filtering data using labels. here label means index for rows and names for columns \n",
    "# syntax df.loc[row, column]\n",
    "# df.loc[0, :] = forst row and all columns"
   ]
  },
  {
   "cell_type": "code",
   "execution_count": 23,
   "metadata": {},
   "outputs": [
    {
     "data": {
      "text/plain": [
       "TEAM            FCB\n",
       "PLAYER        Messi\n",
       "POSITION    Forward\n",
       "Name: 0, dtype: object"
      ]
     },
     "execution_count": 23,
     "metadata": {},
     "output_type": "execute_result"
    }
   ],
   "source": [
    "data_frame.loc[0, :]"
   ]
  },
  {
   "cell_type": "code",
   "execution_count": 26,
   "metadata": {},
   "outputs": [
    {
     "data": {
      "text/plain": [
       "'De Jong'"
      ]
     },
     "execution_count": 26,
     "metadata": {},
     "output_type": "execute_result"
    }
   ],
   "source": [
    "# 4TH ROW OF COLUMN PLAYER\n",
    "data_frame.loc[3,'PLAYER']"
   ]
  },
  {
   "cell_type": "code",
   "execution_count": 33,
   "metadata": {},
   "outputs": [
    {
     "data": {
      "text/plain": [
       "0        Messi\n",
       "1       Suarez\n",
       "2      Grizman\n",
       "3      De Jong\n",
       "4    TersTagan\n",
       "5       Authur\n",
       "6       Arthur\n",
       "Name: PLAYER, dtype: object"
      ]
     },
     "execution_count": 33,
     "metadata": {},
     "output_type": "execute_result"
    }
   ],
   "source": [
    "# 1 TO 6 ROWS OF COLUMN PLAYER (HERE WE PASS A LIST)\n",
    "data_frame.loc[[0, 1, 2, 3, 4, 5, 6], 'PLAYER']"
   ]
  },
  {
   "cell_type": "code",
   "execution_count": 32,
   "metadata": {},
   "outputs": [
    {
     "data": {
      "text/plain": [
       "0        Messi\n",
       "1       Suarez\n",
       "2      Grizman\n",
       "3      De Jong\n",
       "4    TersTagan\n",
       "5       Authur\n",
       "6       Arthur\n",
       "Name: PLAYER, dtype: object"
      ]
     },
     "execution_count": 32,
     "metadata": {},
     "output_type": "execute_result"
    }
   ],
   "source": [
    "# 1 TO 6 ROWS OF COLUMN PLAYER (HERE WE NOT PASSING LIST)\n",
    "data_frame.loc[0:6, 'PLAYER']"
   ]
  },
  {
   "cell_type": "code",
   "execution_count": 36,
   "metadata": {},
   "outputs": [
    {
     "data": {
      "text/html": [
       "<div>\n",
       "<style scoped>\n",
       "    .dataframe tbody tr th:only-of-type {\n",
       "        vertical-align: middle;\n",
       "    }\n",
       "\n",
       "    .dataframe tbody tr th {\n",
       "        vertical-align: top;\n",
       "    }\n",
       "\n",
       "    .dataframe thead th {\n",
       "        text-align: right;\n",
       "    }\n",
       "</style>\n",
       "<table border=\"1\" class=\"dataframe\">\n",
       "  <thead>\n",
       "    <tr style=\"text-align: right;\">\n",
       "      <th></th>\n",
       "      <th>TEAM</th>\n",
       "      <th>PLAYER</th>\n",
       "    </tr>\n",
       "  </thead>\n",
       "  <tbody>\n",
       "    <tr>\n",
       "      <th>0</th>\n",
       "      <td>FCB</td>\n",
       "      <td>Messi</td>\n",
       "    </tr>\n",
       "    <tr>\n",
       "      <th>1</th>\n",
       "      <td>FCB</td>\n",
       "      <td>Suarez</td>\n",
       "    </tr>\n",
       "    <tr>\n",
       "      <th>2</th>\n",
       "      <td>FCB</td>\n",
       "      <td>Grizman</td>\n",
       "    </tr>\n",
       "    <tr>\n",
       "      <th>3</th>\n",
       "      <td>FCB</td>\n",
       "      <td>De Jong</td>\n",
       "    </tr>\n",
       "    <tr>\n",
       "      <th>4</th>\n",
       "      <td>FCB</td>\n",
       "      <td>TersTagan</td>\n",
       "    </tr>\n",
       "    <tr>\n",
       "      <th>5</th>\n",
       "      <td>FCB</td>\n",
       "      <td>Authur</td>\n",
       "    </tr>\n",
       "    <tr>\n",
       "      <th>6</th>\n",
       "      <td>FCB</td>\n",
       "      <td>Arthur</td>\n",
       "    </tr>\n",
       "    <tr>\n",
       "      <th>7</th>\n",
       "      <td>RM</td>\n",
       "      <td>Hazard</td>\n",
       "    </tr>\n",
       "    <tr>\n",
       "      <th>8</th>\n",
       "      <td>RM</td>\n",
       "      <td>Isco</td>\n",
       "    </tr>\n",
       "    <tr>\n",
       "      <th>9</th>\n",
       "      <td>RM</td>\n",
       "      <td>Binzema</td>\n",
       "    </tr>\n",
       "    <tr>\n",
       "      <th>10</th>\n",
       "      <td>RM</td>\n",
       "      <td>Modrich</td>\n",
       "    </tr>\n",
       "    <tr>\n",
       "      <th>11</th>\n",
       "      <td>RM</td>\n",
       "      <td>Toni Kroos</td>\n",
       "    </tr>\n",
       "    <tr>\n",
       "      <th>12</th>\n",
       "      <td>PSG</td>\n",
       "      <td>Mbappe</td>\n",
       "    </tr>\n",
       "    <tr>\n",
       "      <th>13</th>\n",
       "      <td>BM</td>\n",
       "      <td>Coutinho</td>\n",
       "    </tr>\n",
       "    <tr>\n",
       "      <th>14</th>\n",
       "      <td>BM</td>\n",
       "      <td>Pavard</td>\n",
       "    </tr>\n",
       "    <tr>\n",
       "      <th>15</th>\n",
       "      <td>BM</td>\n",
       "      <td>Lewandolski</td>\n",
       "    </tr>\n",
       "    <tr>\n",
       "      <th>16</th>\n",
       "      <td>BM</td>\n",
       "      <td>Nuer</td>\n",
       "    </tr>\n",
       "  </tbody>\n",
       "</table>\n",
       "</div>"
      ],
      "text/plain": [
       "   TEAM       PLAYER\n",
       "0   FCB        Messi\n",
       "1   FCB       Suarez\n",
       "2   FCB      Grizman\n",
       "3   FCB      De Jong\n",
       "4   FCB    TersTagan\n",
       "5   FCB       Authur\n",
       "6   FCB       Arthur\n",
       "7    RM       Hazard\n",
       "8    RM         Isco\n",
       "9    RM      Binzema\n",
       "10   RM      Modrich\n",
       "11   RM   Toni Kroos\n",
       "12  PSG       Mbappe\n",
       "13   BM     Coutinho\n",
       "14   BM       Pavard\n",
       "15   BM  Lewandolski\n",
       "16   BM         Nuer"
      ]
     },
     "execution_count": 36,
     "metadata": {},
     "output_type": "execute_result"
    }
   ],
   "source": [
    "# SELECTING MULTIPLE COLUMNS HERE WE ALSO PASS LIST OF COLUMNS (ALL ROWS OF COLUMN TEAMS= AND PLAYER)\n",
    "data_frame.loc[:, ['TEAM', 'PLAYER']]"
   ]
  },
  {
   "cell_type": "code",
   "execution_count": 37,
   "metadata": {},
   "outputs": [
    {
     "data": {
      "text/html": [
       "<div>\n",
       "<style scoped>\n",
       "    .dataframe tbody tr th:only-of-type {\n",
       "        vertical-align: middle;\n",
       "    }\n",
       "\n",
       "    .dataframe tbody tr th {\n",
       "        vertical-align: top;\n",
       "    }\n",
       "\n",
       "    .dataframe thead th {\n",
       "        text-align: right;\n",
       "    }\n",
       "</style>\n",
       "<table border=\"1\" class=\"dataframe\">\n",
       "  <thead>\n",
       "    <tr style=\"text-align: right;\">\n",
       "      <th></th>\n",
       "      <th>TEAM</th>\n",
       "      <th>PLAYER</th>\n",
       "      <th>POSITION</th>\n",
       "    </tr>\n",
       "  </thead>\n",
       "  <tbody>\n",
       "    <tr>\n",
       "      <th>0</th>\n",
       "      <td>FCB</td>\n",
       "      <td>Messi</td>\n",
       "      <td>Forward</td>\n",
       "    </tr>\n",
       "    <tr>\n",
       "      <th>1</th>\n",
       "      <td>FCB</td>\n",
       "      <td>Suarez</td>\n",
       "      <td>Forward</td>\n",
       "    </tr>\n",
       "    <tr>\n",
       "      <th>2</th>\n",
       "      <td>FCB</td>\n",
       "      <td>Grizman</td>\n",
       "      <td>Forward</td>\n",
       "    </tr>\n",
       "    <tr>\n",
       "      <th>3</th>\n",
       "      <td>FCB</td>\n",
       "      <td>De Jong</td>\n",
       "      <td>Midfielder</td>\n",
       "    </tr>\n",
       "    <tr>\n",
       "      <th>4</th>\n",
       "      <td>FCB</td>\n",
       "      <td>TersTagan</td>\n",
       "      <td>Goalkeeper</td>\n",
       "    </tr>\n",
       "    <tr>\n",
       "      <th>5</th>\n",
       "      <td>FCB</td>\n",
       "      <td>Authur</td>\n",
       "      <td>Midfielder</td>\n",
       "    </tr>\n",
       "    <tr>\n",
       "      <th>6</th>\n",
       "      <td>FCB</td>\n",
       "      <td>Arthur</td>\n",
       "      <td>Midfielder</td>\n",
       "    </tr>\n",
       "  </tbody>\n",
       "</table>\n",
       "</div>"
      ],
      "text/plain": [
       "  TEAM     PLAYER    POSITION\n",
       "0  FCB      Messi     Forward\n",
       "1  FCB     Suarez     Forward\n",
       "2  FCB    Grizman     Forward\n",
       "3  FCB    De Jong  Midfielder\n",
       "4  FCB  TersTagan  Goalkeeper\n",
       "5  FCB     Authur  Midfielder\n",
       "6  FCB     Arthur  Midfielder"
      ]
     },
     "execution_count": 37,
     "metadata": {},
     "output_type": "execute_result"
    }
   ],
   "source": [
    "# SELECTING ALL COLUMNS FROM TEAMS TO POSITION\n",
    "# SELECTING ALL ROWS FROM 0 TO 6 (6TH INCLUDE)\n",
    "# DO NOT NEED TO PASS LIST\n",
    "data_frame.loc[0:6, 'TEAM':'POSITION']\n"
   ]
  },
  {
   "cell_type": "code",
   "execution_count": null,
   "metadata": {},
   "outputs": [],
   "source": []
  }
 ],
 "metadata": {
  "kernelspec": {
   "display_name": "Python 3",
   "language": "python",
   "name": "python3"
  },
  "language_info": {
   "codemirror_mode": {
    "name": "ipython",
    "version": 3
   },
   "file_extension": ".py",
   "mimetype": "text/x-python",
   "name": "python",
   "nbconvert_exporter": "python",
   "pygments_lexer": "ipython3",
   "version": "3.7.3"
  }
 },
 "nbformat": 4,
 "nbformat_minor": 2
}
